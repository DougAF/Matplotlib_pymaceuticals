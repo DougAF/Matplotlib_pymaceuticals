{
 "cells": [
  {
   "cell_type": "code",
   "execution_count": 1,
   "metadata": {},
   "outputs": [
    {
     "data": {
      "text/plain": [
       "'Clinical_df'"
      ]
     },
     "metadata": {},
     "output_type": "display_data"
    },
    {
     "data": {
      "text/plain": [
       "(1893, 4)"
      ]
     },
     "metadata": {},
     "output_type": "display_data"
    },
    {
     "data": {
      "text/plain": [
       "'Mouse_df'"
      ]
     },
     "metadata": {},
     "output_type": "display_data"
    },
    {
     "data": {
      "text/plain": [
       "(250, 2)"
      ]
     },
     "metadata": {},
     "output_type": "display_data"
    },
    {
     "data": {
      "text/plain": [
       "'Combined_df'"
      ]
     },
     "metadata": {},
     "output_type": "display_data"
    },
    {
     "data": {
      "text/plain": [
       "(1906, 5)"
      ]
     },
     "metadata": {},
     "output_type": "display_data"
    },
    {
     "data": {
      "text/html": [
       "<div>\n",
       "<style scoped>\n",
       "    .dataframe tbody tr th:only-of-type {\n",
       "        vertical-align: middle;\n",
       "    }\n",
       "\n",
       "    .dataframe tbody tr th {\n",
       "        vertical-align: top;\n",
       "    }\n",
       "\n",
       "    .dataframe thead th {\n",
       "        text-align: right;\n",
       "    }\n",
       "</style>\n",
       "<table border=\"1\" class=\"dataframe\">\n",
       "  <thead>\n",
       "    <tr style=\"text-align: right;\">\n",
       "      <th></th>\n",
       "      <th>Mouse ID</th>\n",
       "      <th>Drug</th>\n",
       "    </tr>\n",
       "  </thead>\n",
       "  <tbody>\n",
       "    <tr>\n",
       "      <th>0</th>\n",
       "      <td>f234</td>\n",
       "      <td>Stelasyn</td>\n",
       "    </tr>\n",
       "    <tr>\n",
       "      <th>1</th>\n",
       "      <td>x402</td>\n",
       "      <td>Stelasyn</td>\n",
       "    </tr>\n",
       "    <tr>\n",
       "      <th>2</th>\n",
       "      <td>a492</td>\n",
       "      <td>Stelasyn</td>\n",
       "    </tr>\n",
       "    <tr>\n",
       "      <th>3</th>\n",
       "      <td>w540</td>\n",
       "      <td>Stelasyn</td>\n",
       "    </tr>\n",
       "    <tr>\n",
       "      <th>4</th>\n",
       "      <td>v764</td>\n",
       "      <td>Stelasyn</td>\n",
       "    </tr>\n",
       "  </tbody>\n",
       "</table>\n",
       "</div>"
      ],
      "text/plain": [
       "  Mouse ID      Drug\n",
       "0     f234  Stelasyn\n",
       "1     x402  Stelasyn\n",
       "2     a492  Stelasyn\n",
       "3     w540  Stelasyn\n",
       "4     v764  Stelasyn"
      ]
     },
     "metadata": {},
     "output_type": "display_data"
    },
    {
     "data": {
      "text/html": [
       "<div>\n",
       "<style scoped>\n",
       "    .dataframe tbody tr th:only-of-type {\n",
       "        vertical-align: middle;\n",
       "    }\n",
       "\n",
       "    .dataframe tbody tr th {\n",
       "        vertical-align: top;\n",
       "    }\n",
       "\n",
       "    .dataframe thead th {\n",
       "        text-align: right;\n",
       "    }\n",
       "</style>\n",
       "<table border=\"1\" class=\"dataframe\">\n",
       "  <thead>\n",
       "    <tr style=\"text-align: right;\">\n",
       "      <th></th>\n",
       "      <th>Mouse ID</th>\n",
       "      <th>Timepoint</th>\n",
       "      <th>Tumor Volume (mm3)</th>\n",
       "      <th>Metastatic Sites</th>\n",
       "    </tr>\n",
       "  </thead>\n",
       "  <tbody>\n",
       "    <tr>\n",
       "      <th>0</th>\n",
       "      <td>b128</td>\n",
       "      <td>0</td>\n",
       "      <td>45.0</td>\n",
       "      <td>0</td>\n",
       "    </tr>\n",
       "    <tr>\n",
       "      <th>1</th>\n",
       "      <td>f932</td>\n",
       "      <td>0</td>\n",
       "      <td>45.0</td>\n",
       "      <td>0</td>\n",
       "    </tr>\n",
       "    <tr>\n",
       "      <th>2</th>\n",
       "      <td>g107</td>\n",
       "      <td>0</td>\n",
       "      <td>45.0</td>\n",
       "      <td>0</td>\n",
       "    </tr>\n",
       "    <tr>\n",
       "      <th>3</th>\n",
       "      <td>a457</td>\n",
       "      <td>0</td>\n",
       "      <td>45.0</td>\n",
       "      <td>0</td>\n",
       "    </tr>\n",
       "    <tr>\n",
       "      <th>4</th>\n",
       "      <td>c819</td>\n",
       "      <td>0</td>\n",
       "      <td>45.0</td>\n",
       "      <td>0</td>\n",
       "    </tr>\n",
       "  </tbody>\n",
       "</table>\n",
       "</div>"
      ],
      "text/plain": [
       "  Mouse ID  Timepoint  Tumor Volume (mm3)  Metastatic Sites\n",
       "0     b128          0                45.0                 0\n",
       "1     f932          0                45.0                 0\n",
       "2     g107          0                45.0                 0\n",
       "3     a457          0                45.0                 0\n",
       "4     c819          0                45.0                 0"
      ]
     },
     "metadata": {},
     "output_type": "display_data"
    },
    {
     "data": {
      "text/html": [
       "<div>\n",
       "<style scoped>\n",
       "    .dataframe tbody tr th:only-of-type {\n",
       "        vertical-align: middle;\n",
       "    }\n",
       "\n",
       "    .dataframe tbody tr th {\n",
       "        vertical-align: top;\n",
       "    }\n",
       "\n",
       "    .dataframe thead th {\n",
       "        text-align: right;\n",
       "    }\n",
       "</style>\n",
       "<table border=\"1\" class=\"dataframe\">\n",
       "  <thead>\n",
       "    <tr style=\"text-align: right;\">\n",
       "      <th></th>\n",
       "      <th>Mouse ID</th>\n",
       "      <th>Drug</th>\n",
       "      <th>Timepoint</th>\n",
       "      <th>Tumor Volume (mm3)</th>\n",
       "      <th>Metastatic Sites</th>\n",
       "    </tr>\n",
       "  </thead>\n",
       "  <tbody>\n",
       "    <tr>\n",
       "      <th>0</th>\n",
       "      <td>f234</td>\n",
       "      <td>Stelasyn</td>\n",
       "      <td>0</td>\n",
       "      <td>45.000000</td>\n",
       "      <td>0</td>\n",
       "    </tr>\n",
       "    <tr>\n",
       "      <th>1</th>\n",
       "      <td>f234</td>\n",
       "      <td>Stelasyn</td>\n",
       "      <td>5</td>\n",
       "      <td>47.313491</td>\n",
       "      <td>0</td>\n",
       "    </tr>\n",
       "    <tr>\n",
       "      <th>2</th>\n",
       "      <td>f234</td>\n",
       "      <td>Stelasyn</td>\n",
       "      <td>10</td>\n",
       "      <td>47.904324</td>\n",
       "      <td>0</td>\n",
       "    </tr>\n",
       "    <tr>\n",
       "      <th>3</th>\n",
       "      <td>f234</td>\n",
       "      <td>Stelasyn</td>\n",
       "      <td>15</td>\n",
       "      <td>48.735197</td>\n",
       "      <td>1</td>\n",
       "    </tr>\n",
       "    <tr>\n",
       "      <th>4</th>\n",
       "      <td>f234</td>\n",
       "      <td>Stelasyn</td>\n",
       "      <td>20</td>\n",
       "      <td>51.112713</td>\n",
       "      <td>2</td>\n",
       "    </tr>\n",
       "  </tbody>\n",
       "</table>\n",
       "</div>"
      ],
      "text/plain": [
       "  Mouse ID      Drug  Timepoint  Tumor Volume (mm3)  Metastatic Sites\n",
       "0     f234  Stelasyn          0           45.000000                 0\n",
       "1     f234  Stelasyn          5           47.313491                 0\n",
       "2     f234  Stelasyn         10           47.904324                 0\n",
       "3     f234  Stelasyn         15           48.735197                 1\n",
       "4     f234  Stelasyn         20           51.112713                 2"
      ]
     },
     "execution_count": 1,
     "metadata": {},
     "output_type": "execute_result"
    }
   ],
   "source": [
    "# Dependencies and Setup\n",
    "%matplotlib inline\n",
    "import matplotlib.pyplot as plt\n",
    "import pandas as pd\n",
    "import numpy as np\n",
    "\n",
    "# Hide warning messages in notebook\n",
    "import warnings\n",
    "warnings.filterwarnings('ignore')\n",
    "\n",
    "# File to Load (Remember to Change These)\n",
    "mouse_data_path = \"data/mouse_drug_data.csv\"\n",
    "clinical_data_path = \"data/clinicaltrial_data.csv\"\n",
    "\n",
    "# Read the Mouse and Drug Data and the Clinical Trial Data\n",
    "\n",
    "mouse_df = pd.read_csv(mouse_data_path)\n",
    "\n",
    "clinical_df = pd.read_csv(clinical_data_path)\n",
    "\n",
    "# Combine the data into a single dataset Merge the first two datasets on \"Mouse ID\" so that no data is lost \n",
    "combined_df = pd.merge(mouse_df, clinical_df,\n",
    "                                 how='outer', on='Mouse ID')\n",
    "#visualize data\n",
    "display(\n",
    "   \"Clinical_df\", clinical_df.shape,\n",
    "    \"Mouse_df\" , mouse_df.shape,\n",
    "    \"Combined_df\" , combined_df.shape,\n",
    "    mouse_df.head(),\n",
    "    clinical_df.head()\n",
    ")\n",
    "\n",
    "# Combine the data into a single dataset Merge the first two datasets on \"Mouse ID\" so that no data is lost \n",
    "combined_df = pd.merge(mouse_df, clinical_df,\n",
    "                                 how='outer', on='Mouse ID')\n",
    "\n",
    "\n",
    "\n",
    "# Display the data table for preview (Why did it get 15 rows longer??)\n",
    "combined_df.head()\n"
   ]
  },
  {
   "cell_type": "code",
   "execution_count": 2,
   "metadata": {},
   "outputs": [
    {
     "data": {
      "text/plain": [
       "Text(0, 0.5, 'Count')"
      ]
     },
     "execution_count": 2,
     "metadata": {},
     "output_type": "execute_result"
    },
    {
     "data": {
      "image/png": "[encoded data removed]",
      "text/plain": [
       "<Figure size 432x288 with 1 Axes>"
      ]
     },
     "metadata": {
      "needs_background": "light"
     },
     "output_type": "display_data"
    }
   ],
   "source": [
    "#Visualize experiment groups \n",
    "drug_group = combined_df.groupby('Drug')\n",
    "drug_group_counts = drug_group['Drug'].count()\n",
    "\n",
    "drug_chart = drug_group_counts.plot(kind='bar')\n",
    "\n",
    "drug_chart.set_xlabel(\"Drug\")\n",
    "drug_chart.set_ylabel(\"Count\")\n",
    "\n"
   ]
  },
  {
   "cell_type": "code",
   "execution_count": 16,
   "metadata": {
    "scrolled": false
   },
   "outputs": [
    {
     "data": {
      "text/html": [
       "<div>\n",
       "<style scoped>\n",
       "    .dataframe tbody tr th:only-of-type {\n",
       "        vertical-align: middle;\n",
       "    }\n",
       "\n",
       "    .dataframe tbody tr th {\n",
       "        vertical-align: top;\n",
       "    }\n",
       "\n",
       "    .dataframe thead th {\n",
       "        text-align: right;\n",
       "    }\n",
       "</style>\n",
       "<table border=\"1\" class=\"dataframe\">\n",
       "  <thead>\n",
       "    <tr style=\"text-align: right;\">\n",
       "      <th></th>\n",
       "      <th></th>\n",
       "      <th>Mean Tumor Volume (mm3)</th>\n",
       "      <th>Mean Metastatic Sites</th>\n",
       "      <th>n</th>\n",
       "      <th>Tumor Volume (mm3)Std error</th>\n",
       "      <th>Metastatic Sites_Std error</th>\n",
       "    </tr>\n",
       "    <tr>\n",
       "      <th>Drug</th>\n",
       "      <th>Timepoint</th>\n",
       "      <th></th>\n",
       "      <th></th>\n",
       "      <th></th>\n",
       "      <th></th>\n",
       "      <th></th>\n",
       "    </tr>\n",
       "  </thead>\n",
       "  <tbody>\n",
       "    <tr>\n",
       "      <th rowspan=\"5\" valign=\"top\">Capomulin</th>\n",
       "      <th>0</th>\n",
       "      <td>45.000000</td>\n",
       "      <td>0.000000</td>\n",
       "      <td>25</td>\n",
       "      <td>0.000000</td>\n",
       "      <td>0.000000</td>\n",
       "    </tr>\n",
       "    <tr>\n",
       "      <th>5</th>\n",
       "      <td>44.266086</td>\n",
       "      <td>0.160000</td>\n",
       "      <td>25</td>\n",
       "      <td>0.448593</td>\n",
       "      <td>0.074833</td>\n",
       "    </tr>\n",
       "    <tr>\n",
       "      <th>10</th>\n",
       "      <td>43.084291</td>\n",
       "      <td>0.320000</td>\n",
       "      <td>25</td>\n",
       "      <td>0.702684</td>\n",
       "      <td>0.125433</td>\n",
       "    </tr>\n",
       "    <tr>\n",
       "      <th>15</th>\n",
       "      <td>42.064317</td>\n",
       "      <td>0.375000</td>\n",
       "      <td>24</td>\n",
       "      <td>0.838617</td>\n",
       "      <td>0.132048</td>\n",
       "    </tr>\n",
       "    <tr>\n",
       "      <th>20</th>\n",
       "      <td>40.716325</td>\n",
       "      <td>0.652174</td>\n",
       "      <td>23</td>\n",
       "      <td>0.909731</td>\n",
       "      <td>0.161621</td>\n",
       "    </tr>\n",
       "  </tbody>\n",
       "</table>\n",
       "</div>"
      ],
      "text/plain": [
       "                     Mean Tumor Volume (mm3)  Mean Metastatic Sites   n  \\\n",
       "Drug      Timepoint                                                       \n",
       "Capomulin 0                        45.000000               0.000000  25   \n",
       "          5                        44.266086               0.160000  25   \n",
       "          10                       43.084291               0.320000  25   \n",
       "          15                       42.064317               0.375000  24   \n",
       "          20                       40.716325               0.652174  23   \n",
       "\n",
       "                     Tumor Volume (mm3)Std error  Metastatic Sites_Std error  \n",
       "Drug      Timepoint                                                           \n",
       "Capomulin 0                             0.000000                    0.000000  \n",
       "          5                             0.448593                    0.074833  \n",
       "          10                            0.702684                    0.125433  \n",
       "          15                            0.838617                    0.132048  \n",
       "          20                            0.909731                    0.161621  "
      ]
     },
     "metadata": {},
     "output_type": "display_data"
    },
    {
     "data": {
      "text/plain": [
       "Drug       Timepoint\n",
       "Capomulin  0            45.000000\n",
       "           5            44.266086\n",
       "           10           43.084291\n",
       "           15           42.064317\n",
       "           20           40.716325\n",
       "           25           39.939528\n",
       "           30           38.769339\n",
       "           35           37.816839\n",
       "           40           36.958001\n",
       "           45           36.236114\n",
       "Name: Mean Tumor Volume (mm3), dtype: float64"
      ]
     },
     "metadata": {},
     "output_type": "display_data"
    },
    {
     "data": {
      "text/plain": [
       "Drug       Timepoint\n",
       "Infubinol  0            45.000000\n",
       "           5            47.062001\n",
       "           10           49.403909\n",
       "           15           51.296397\n",
       "           20           53.197691\n",
       "           25           55.715252\n",
       "           30           58.299397\n",
       "           35           60.742461\n",
       "           40           63.162824\n",
       "           45           65.755562\n",
       "Name: Mean Tumor Volume (mm3), dtype: float64"
      ]
     },
     "metadata": {},
     "output_type": "display_data"
    },
    {
     "data": {
      "text/plain": [
       "Drug      Timepoint\n",
       "Ketapril  0            45.000000\n",
       "          5            47.389175\n",
       "          10           49.582269\n",
       "          15           52.399974\n",
       "          20           54.920935\n",
       "          25           57.678982\n",
       "          30           60.994507\n",
       "          35           63.371686\n",
       "          40           66.068580\n",
       "          45           70.662958\n",
       "Name: Mean Tumor Volume (mm3), dtype: float64"
      ]
     },
     "metadata": {},
     "output_type": "display_data"
    },
    {
     "data": {
      "text/plain": [
       "Drug     Timepoint\n",
       "Placebo  0            45.000000\n",
       "         5            47.125589\n",
       "         10           49.423329\n",
       "         15           51.359742\n",
       "         20           54.364417\n",
       "         25           57.482574\n",
       "         30           59.809063\n",
       "         35           62.420615\n",
       "         40           65.052675\n",
       "         45           68.084082\n",
       "Name: Mean Tumor Volume (mm3), dtype: float64"
      ]
     },
     "metadata": {},
     "output_type": "display_data"
    }
   ],
   "source": [
    "#Find avg tumor vol and m_sites\n",
    "combined_df_mean = combined_df.groupby(['Drug', 'Timepoint']).mean()\n",
    "#Find drug group counts\n",
    "combined_df_n = combined_df.groupby(['Drug', \"Timepoint\"]).count()\n",
    "\n",
    "#dfNew = df.merge(df2, left_index=True, right_index=True,\n",
    "\n",
    "#cut Excess and rename\n",
    "combined_df_n = combined_df_n.drop(columns=['Tumor Volume (mm3)', 'Metastatic Sites'])\n",
    "combined_df_n = combined_df_n.rename(columns={\"Mouse ID\": \"n\"})\n",
    "\n",
    "#add 'n' values to df \n",
    "combined_df_mean['n'] = combined_df_n.iloc[:,0].values\n",
    "\n",
    "#Create Sem DF\n",
    "Sem = combined_df.groupby(['Drug', \"Timepoint\"]).sem()\n",
    "Sem = Sem.drop(columns=[\"Mouse ID\"])\n",
    "Sem = Sem.rename(columns={'Tumor Volume (mm3)':'Tumor Volume (mm3)Std error', 'Metastatic Sites': 'Metastatic Sites_Std error'})\n",
    "\n",
    "#Adding std error colns\n",
    "combined_df_mean['Tumor Volume (mm3)Std error'] = Sem['Tumor Volume (mm3)Std error'] \n",
    "combined_df_mean['Metastatic Sites_Std error'] = Sem['Metastatic Sites_Std error'] \n",
    "\n",
    "#Correct DF titles\n",
    "combined_df_stderr = combined_df_mean.rename(columns={'Tumor Volume (mm3)': 'Mean Tumor Volume (mm3)', \n",
    "                                                    'Metastatic Sites': 'Mean Metastatic Sites'})\n",
    "display(\n",
    "        combined_df_stderr.head(),\n",
    "        combined_df_stderr.iloc[0:10,0], #All Mean tumors # Capomulin\n",
    "        combined_df_stderr.iloc[20:30,0], #Infubinol\n",
    "        combined_df_stderr.iloc[30:40,0], #Ketapril  \n",
    "        combined_df_stderr.iloc[50:60,0]  #Placebo  \n",
    ")\n",
    "\n",
    "     \n"
   ]
  },
  {
   "cell_type": "code",
   "execution_count": 37,
   "metadata": {},
   "outputs": [],
   "source": [
    "###FAILS\n",
    "\n",
    "#Make a DF for each treatment\n",
    "#Placebo_df = combined_df[combined_df['Drug']=='Placebo']\n",
    "#Capomulin_df = combined_df[combined_df['Drug']=='Capomulin']\n",
    "#Infubinol_df = combined_df[combined_df['Drug']=='Infubinol']\n",
    "#Ketapril_df = combined_df[combined_df['Drug']=='Ketapril']\n",
    "\n",
    "###HARD CODE\n",
    "#Store Mean tumor volume by timepoint for each treatment \n",
    "#Placebo_0_mean = Placebo_df[Placebo_df['Timepoint']==0].groupby(['Tumor Volume (mm3)']).mean()\n",
    "#x = Placebo_df[Placebo_df['Timepoint']== 5].groupby(['Tumor Volume (mm3)']).agg('sum')\n",
    "#Placebo_df[Placebo_df['Timepoint']==10].groupby(['Tumor Volume (mm3)']).mean()\n",
    "#Placebo_df[Placebo_df['Timepoint']==15].groupby(['Tumor Volume (mm3)']).mean()\n",
    "##Placebo_time_df = Placebo_df[Placebo_df['Timepoint']==0]\n",
    "##Placebo_0_sum = Placebo_time_df['Tumor Volume (mm3)'].agg(['sum'])\n",
    "##Placebo_0_mean = Placebo_0_sum / len(Placebo_time_df)\n",
    "#Placebo_0_mean \n"
   ]
  },
  {
   "cell_type": "markdown",
   "metadata": {},
   "source": [
    "## Tumor Response to Treatment"
   ]
  },
  {
   "cell_type": "code",
   "execution_count": 25,
   "metadata": {},
   "outputs": [
    {
     "data": {
      "text/plain": [
       "['Mean Tumor Volume (mm3)',\n",
       " 'Mean Metastatic Sites',\n",
       " 'n',\n",
       " 'Tumor Volume (mm3)Std error',\n",
       " 'Metastatic Sites_Std error']"
      ]
     },
     "execution_count": 25,
     "metadata": {},
     "output_type": "execute_result"
    }
   ],
   "source": [
    "#Boss DF\n",
    "Mean_tumor_l = combined_df_stderr['Mean Tumor Volume (mm3)']\n",
    "Timepoints = combined_df_stderr.iloc[:,0].values\n",
    "combined_df_stderr.head()\n",
    "combined_df_stderr.reset_index\n",
    "list(combined_df_stderr.columns.values)"
   ]
  },
  {
   "cell_type": "code",
   "execution_count": 26,
   "metadata": {},
   "outputs": [],
   "source": [
    "# Minor Data Munging to Re-Format the Data Frames \n",
    "    #I like where it is, suggesstions?\n",
    "\n",
    "combined_df_stderr.iloc[0:10,0], #All Mean tumors Capomulin\n",
    "        combined_df_stderr.iloc[20:30,0], #Infubinol\n",
    "        combined_df_stderr.iloc[30:40,0], #Ketapril  \n",
    "        combined_df_stderr.iloc[50:60,0]  #Placebo  "
   ]
  },
  {
   "cell_type": "code",
   "execution_count": 43,
   "metadata": {},
   "outputs": [
    {
     "data": {
      "image/png": "[encoded data removed]",
      "text/plain": [
       "<Figure size 432x288 with 1 Axes>"
      ]
     },
     "metadata": {
      "needs_background": "light"
     },
     "output_type": "display_data"
    }
   ],
   "source": [
    "# CAPOMULIN Generate the Plot (with Error Bars) DataFrame.plot.scatter(x, y, s=None, c=None, **kwds)[source]\n",
    "\n",
    "Capo_time_tumormean_l = combined_df_stderr.iloc[0:10,0]\n",
    "x_limit = 50\n",
    "x_axis = np.arange(0, x_limit, 5)\n",
    "#data =  np.arange(0, x_limit, 5)\n",
    "Mean_Tumor_scatter_Capo = plt.scatter(x_axis, Capo_time_tumormean_l, marker=\"o\", facecolors=\"green\", edgecolors=\"black\",\n",
    "            s=50, alpha=0.75)\n",
    "\n",
    "#combined_df_stderr.plot.scatter(Timepoints, Mean_tumor_l)\n",
    "\n",
    "plt.xlabel('Timepoints')\n",
    "plt.ylabel('Mean Tumor Vol (mm3)')\n",
    "plt.title('Capomulin Treatment - Tumor Vol')\n",
    "# Save the Figure\n",
    "plt.savefig('Mean_Tumor_scatter_Capo')\n",
    "\n",
    "##############################################################################################################\n",
    "\n",
    "# KETAPRIL Generate the Plot (with Error Bars) DataFrame.plot.scatter(x, y, s=None, c=None, **kwds)[source]\n",
    "\n",
    "Ketapril_time_tumormean_l = combined_df_stderr.iloc[30:40,0]\n",
    "x_limit = 50\n",
    "x_axis = np.arange(0, x_limit, 5)\n",
    "#data =  np.arange(0, x_limit, 5)\n",
    "Mean_Tumor_scatter_Ketapril = plt.scatter(x_axis, Ketapril_time_tumormean_l, marker=\"o\", facecolors=\"red\", edgecolors=\"black\",\n",
    "            s=50, alpha=0.75)\n",
    "\n",
    "#combined_df_stderr.plot.scatter(Timepoints, Mean_tumor_l)\n",
    "\n",
    "plt.xlabel('Timepoints')\n",
    "plt.ylabel('Mean Tumor Vol (mm3)')\n",
    "plt.title('Ketapril Treatment - Tumor Vol')\n",
    "# Save the Figure\n",
    "plt.savefig('Mean_Tumor_scatter_Ketapril')\n",
    "\n",
    "################################################################################################################\n",
    "\n",
    "# PLACEBO Generate the Plot (with Error Bars) DataFrame.plot.scatter(x, y, s=None, c=None, **kwds)[source]\n",
    "\n",
    "Placebo_time_tumormean_l = combined_df_stderr.iloc[50:60,0]\n",
    "x_limit = 50\n",
    "x_axis = np.arange(0, x_limit, 5)\n",
    "#data =  np.arange(0, x_limit, 5)\n",
    "Mean_Tumor_scatter_Placebo = plt.scatter(x_axis, Placebo_time_tumormean_l, marker=\"o\", facecolors=\"orange\", edgecolors=\"black\",\n",
    "            s=50, alpha=0.75)\n",
    "\n",
    "#combined_df_stderr.plot.scatter(Timepoints, Mean_tumor_l)\n",
    "\n",
    "plt.xlabel('Timepoints')\n",
    "plt.ylabel('Mean Tumor Vol (mm3)')\n",
    "plt.title('Placebo Treatment - Tumor Vol')\n",
    "# Save the Figure\n",
    "plt.savefig('Mean_Tumor_scatter_Placebo')\n",
    "\n",
    "################################################################################################################\n",
    "#INFUBINOOL Generate the Plot (with Error Bars) DataFrame.plot.scatter(x, y, s=None, c=None, **kwds)[source]\n",
    "\n",
    "Infubinol_time_tumormean_l = combined_df_stderr.iloc[20:30,0]\n",
    "x_limit = 50\n",
    "x_axis = np.arange(0, x_limit, 5)\n",
    "#data =  np.arange(0, x_limit, 5)\n",
    "Mean_Tumor_scatter_Infubinol = plt.scatter(x_axis, Infubinol_time_tumormean_l, marker=\"o\", facecolors=\"yellow\", edgecolors=\"black\",\n",
    "            s=50, alpha=0.75)\n",
    "\n",
    "#combined_df_stderr.plot.scatter(Timepoints, Mean_tumor_l)\n",
    "\n",
    "plt.xlabel('Timepoints')\n",
    "plt.ylabel('Mean Tumor Vol (mm3)')\n",
    "plt.title('Mean tumor vol by Treatment - Tumor Vol')\n",
    "# Save the Figure\n",
    "plt.savefig('Mean_Tumor_scatter_Infubinol')\n",
    "\n",
    "\n"
   ]
  },
  {
   "cell_type": "markdown",
   "metadata": {},
   "source": [
    "### TREND ANALYSIS\n",
    "\n",
    "Obseving the above scatterplot, one can see that the Capomulin(green) treatment was the only to be correlated with a reduction in tumor tumor vol(mm3). With std error bars it would appear the the Placebo(orange), Infubinol(yellow), and Ketapril(red) treatments have all had a similar effect on tumor vol; none. \n"
   ]
  },
  {
   "cell_type": "markdown",
   "metadata": {},
   "source": [
    "## Metastatic Response to Treatment"
   ]
  },
  {
   "cell_type": "code",
   "execution_count": 19,
   "metadata": {},
   "outputs": [
    {
     "data": {
      "image/png": "[encoded data removed]",
      "text/plain": [
       "<Figure size 432x288 with 1 Axes>"
      ]
     },
     "metadata": {
      "needs_background": "light"
     },
     "output_type": "display_data"
    }
   ],
   "source": [
    "# Store the Mean Met. Site Data Grouped by Drug and Timepoint \n",
    "\n",
    "# Convert to DataFrame\n",
    "\n",
    "# Preview DataFrame\n",
    "# CAPOMULIN Generate the Plot (with Error Bars) DataFrame.plot.scatter(x, y, s=None, c=None, **kwds)[source]\n",
    "\n",
    "Capo_time_metamean_l = combined_df_stderr.iloc[0:10,1]\n",
    "x_limit = 50\n",
    "x_axis = np.arange(0, x_limit, 5)\n",
    "\n",
    "Mean_Metastatic_scatter_Capo = plt.scatter(x_axis, Capo_time_metamean_l, marker=\"o\", facecolors=\"green\", edgecolors=\"black\",\n",
    "            s=50, alpha=0.75)\n",
    "\n",
    "#combined_df_stderr.plot.scatter(Timepoints, Mean_tumor_l)\n",
    "\n",
    "plt.xlabel('Timepoints')\n",
    "plt.ylabel('Mean Metastatic Sites')\n",
    "plt.title('Capomulin Treatment - Metastatic Sites')\n",
    "# Save the Figure\n",
    "plt.savefig('Mean_meta_scatter_Capo')\n",
    "\n",
    "##############################################################################################################\n",
    "\n",
    "# KETAPRIL Generate the Plot (with Error Bars) DataFrame.plot.scatter(x, y, s=None, c=None, **kwds)[source]\n",
    "\n",
    "Ketapril_time_metamean_l = combined_df_stderr.iloc[30:40,1]\n",
    "x_limit = 50\n",
    "x_axis = np.arange(0, x_limit, 5)\n",
    "#data =  np.arange(0, x_limit, 5)\n",
    "Mean_Metastatic_scatter_Ketapril = plt.scatter(x_axis, Ketapril_time_metamean_l, marker=\"o\", facecolors=\"red\", edgecolors=\"black\",\n",
    "            s=50, alpha=0.75)\n",
    "\n",
    "#combined_df_stderr.plot.scatter(Timepoints, Mean_tumor_l)\n",
    "\n",
    "plt.xlabel('Timepoints')\n",
    "plt.ylabel('Mean Metastatic Sites')\n",
    "plt.title('Ketapril Treatment - Tumor Vol')\n",
    "# Save the Figure\n",
    "plt.savefig('Mean_meta_scatter_Ketapril')\n",
    "\n",
    "################################################################################################################\n",
    "\n",
    "# PLACEBO Generate the Plot (with Error Bars) DataFrame.plot.scatter(x, y, s=None, c=None, **kwds)[source]\n",
    "\n",
    "Placebo_time_metamean_l = combined_df_stderr.iloc[50:60,1]\n",
    "x_limit = 50\n",
    "x_axis = np.arange(0, x_limit, 5)\n",
    "#data =  np.arange(0, x_limit, 5)\n",
    "Mean_Metastatic_scatter_Placebo = plt.scatter(x_axis, Placebo_time_metamean_l, marker=\"o\", facecolors=\"orange\", edgecolors=\"black\",\n",
    "            s=50, alpha=0.75)\n",
    "\n",
    "#combined_df_stderr.plot.scatter(Timepoints, Mean_tumor_l)\n",
    "\n",
    "plt.xlabel('Timepoints')\n",
    "plt.ylabel('Mean Metastatic Sites')\n",
    "plt.title('Placebo Treatment - Tumor Vol')\n",
    "# Save the Figure\n",
    "plt.savefig('Mean_meta_scatter_Placebo')\n",
    "\n",
    "################################################################################################################\n",
    "#INFUBINOOL Generate the Plot (with Error Bars) DataFrame.plot.scatter(x, y, s=None, c=None, **kwds)[source]\n",
    "\n",
    "Infubinol_time_metamean_l = combined_df_stderr.iloc[20:30,1]\n",
    "x_limit = 50\n",
    "x_axis = np.arange(0, x_limit, 5)\n",
    "#data =  np.arange(0, x_limit, 5)\n",
    "Mean_Metastatic_scatter_Infubinol = plt.scatter(x_axis, Infubinol_time_metamean_l, marker=\"o\", facecolors=\"yellow\", edgecolors=\"black\",\n",
    "            s=50, alpha=0.75)\n",
    "\n",
    "#combined_df_stderr.plot.scatter(Timepoints, Mean_tumor_l)\n",
    "\n",
    "plt.xlabel('Timepoints')\n",
    "plt.ylabel('Mean Metastatic Sites')\n",
    "plt.title('Mean tumor vol by Treatment - Tumor Vol')\n",
    "plt.legend()\n",
    "# Save the Figure\n",
    "plt.savefig('Mean_meta_scatter_Infubinol')"
   ]
  },
  {
   "cell_type": "markdown",
   "metadata": {},
   "source": [
    "### TREND ANALYSIS\n",
    "\n",
    "Looking at the above scatterplot we can see the drug Capomulin(green) has the least correlation with increased metastatic sites. in other words Capomulin shows the greatest correlation with a cancer treatment effect; reduction of spreading cancerous sites. Infubinol(yellow) presents here a similar behavior to Capomulin, yet with less of an effect.The Ketapril(red) and Placebo(orange)treatments have a similar effect over time."
   ]
  },
  {
   "cell_type": "code",
   "execution_count": null,
   "metadata": {},
   "outputs": [],
   "source": [
    "# Store the Standard Error associated with Met. Sites Grouped by Drug and Timepoint \n",
    "\n",
    "# Convert to DataFrame\n",
    "\n",
    "# Preview DataFrame\n"
   ]
  },
  {
   "cell_type": "code",
   "execution_count": null,
   "metadata": {},
   "outputs": [],
   "source": []
  },
  {
   "cell_type": "code",
   "execution_count": null,
   "metadata": {},
   "outputs": [],
   "source": [
    "# Minor Data Munging to Re-Format the Data Frames\n",
    "\n",
    "# Preview that Reformatting worked\n"
   ]
  },
  {
   "cell_type": "code",
   "execution_count": null,
   "metadata": {
    "scrolled": true
   },
   "outputs": [],
   "source": []
  },
  {
   "cell_type": "code",
   "execution_count": null,
   "metadata": {},
   "outputs": [],
   "source": [
    "# Generate the Plot (with Error Bars)\n",
    "\n",
    "# Save the Figure\n",
    "\n",
    "# Show the Figure\n"
   ]
  },
  {
   "cell_type": "code",
   "execution_count": null,
   "metadata": {},
   "outputs": [],
   "source": []
  },
  {
   "cell_type": "markdown",
   "metadata": {},
   "source": [
    "## Survival Rates"
   ]
  },
  {
   "cell_type": "code",
   "execution_count": 20,
   "metadata": {},
   "outputs": [
    {
     "data": {
      "image/png": "[encoded data removed]",
      "text/plain": [
       "<Figure size 432x288 with 1 Axes>"
      ]
     },
     "metadata": {
      "needs_background": "light"
     },
     "output_type": "display_data"
    }
   ],
   "source": [
    "# Store the Count of Mice Grouped by Drug and Timepoint (W can pass any metric)\n",
    "\n",
    "# Store the surival counts \n",
    "\n",
    "# Convert to DataFrame\n",
    "\n",
    "# Preview DataFrame\n",
    "# CAPOMULIN Generate the Plot (with Error Bars) DataFrame.plot.scatter(x, y, s=None, c=None, **kwds)[source]\n",
    "\n",
    "Capo_time_n_l = combined_df_stderr.iloc[0:10,2]\n",
    "x_limit = 50\n",
    "x_axis = np.arange(0, x_limit, 5)\n",
    "\n",
    "Mean_Metastatic_scatter_Capo = plt.scatter(x_axis, Capo_time_n_l, marker=\"o\", facecolors=\"green\", edgecolors=\"black\",\n",
    "            s=50, alpha=0.75)\n",
    "\n",
    "#combined_df_stderr.plot.scatter(Timepoints, Mean_tumor_l)\n",
    "\n",
    "plt.xlabel('Timepoints')\n",
    "plt.ylabel('Number of Survivors')\n",
    "plt.title('Capomulin Treatment - Survivors')\n",
    "# Save the Figure\n",
    "plt.savefig('Mean_n_scatter_Capo')\n",
    "\n",
    "##############################################################################################################\n",
    "\n",
    "# KETAPRIL Generate the Plot (with Error Bars) DataFrame.plot.scatter(x, y, s=None, c=None, **kwds)[source]\n",
    "\n",
    "Ketapril_time_n_l = combined_df_stderr.iloc[30:40,2]\n",
    "x_limit = 50\n",
    "x_axis = np.arange(0, x_limit, 5)\n",
    "#data =  np.arange(0, x_limit, 5)\n",
    "Mean_Metastatic_scatter_Ketapril = plt.scatter(x_axis, Ketapril_time_n_l, marker=\"o\", facecolors=\"red\", edgecolors=\"black\",\n",
    "            s=50, alpha=0.75)\n",
    "\n",
    "#combined_df_stderr.plot.scatter(Timepoints, Mean_tumor_l)\n",
    "\n",
    "plt.xlabel('Timepoints')\n",
    "plt.ylabel('Number of Survivors')\n",
    "plt.title('Ketapril Treatment - Survivors')\n",
    "# Save the Figure\n",
    "plt.savefig('Mean_n_scatter_Ketapril')\n",
    "\n",
    "################################################################################################################\n",
    "\n",
    "# PLACEBO Generate the Plot (with Error Bars) DataFrame.plot.scatter(x, y, s=None, c=None, **kwds)[source]\n",
    "\n",
    "Placebo_time_n_l = combined_df_stderr.iloc[50:60,2]\n",
    "x_limit = 50\n",
    "x_axis = np.arange(0, x_limit, 5)\n",
    "#data =  np.arange(0, x_limit, 5)\n",
    "Mean_Metastatic_scatter_Placebo = plt.scatter(x_axis, Placebo_time_n_l, marker=\"o\", facecolors=\"orange\", edgecolors=\"black\",\n",
    "            s=50, alpha=0.75)\n",
    "\n",
    "#combined_df_stderr.plot.scatter(Timepoints, Mean_tumor_l)\n",
    "\n",
    "plt.xlabel('Timepoints')\n",
    "plt.ylabel('Number of Survivors')\n",
    "plt.title('Placebo Treatment - Survivors')\n",
    "# Save the Figure\n",
    "plt.savefig('Mean_n_scatter_Placebo')\n",
    "\n",
    "################################################################################################################\n",
    "#INFUBINOOL Generate the Plot (with Error Bars) DataFrame.plot.scatter(x, y, s=None, c=None, **kwds)[source]\n",
    "\n",
    "Infubinol_time_n_l = combined_df_stderr.iloc[20:30,2]\n",
    "x_limit = 50\n",
    "x_axis = np.arange(0, x_limit, 5)\n",
    "#data =  np.arange(0, x_limit, 5)\n",
    "Mean_Metastatic_scatter_Infubinol = plt.scatter(x_axis, Infubinol_time_n_l, marker=\"o\", facecolors=\"yellow\", edgecolors=\"black\",\n",
    "            s=50, alpha=0.75)\n",
    "\n",
    "#combined_df_stderr.plot.scatter(Timepoints, Mean_tumor_l)\n",
    "\n",
    "plt.xlabel('Timepoints')\n",
    "plt.ylabel('Number of Survivors')\n",
    "plt.title('Survivors by Treatment')\n",
    "plt.legend()\n",
    "# Save the Figure\n",
    "plt.savefig('Mean_n_scatter_Infubinol')"
   ]
  },
  {
   "cell_type": "markdown",
   "metadata": {},
   "source": [
    "### TREND ANALYSIS\n",
    "\n",
    "This final scatter plot dipicts a correlation between Capomulin(green) and the highest rate of survival. Interestingly the Ketapril(red) treament groups, at timepoints at 35 and 40, have a higher survival rate than the Placebo(orange) and Infubinol(yellow) groups. Yet this group does \"catch up\" to the latter mentioned treatments by time point 45. The Placebo(orange) treatment group shows a correlation to higher survival rates than Infubinol(yellow). This indicates a possible health consequence to Infubinol(yellow) vs the Placebo(orange) group. Bringing in the data from the previos plot=, wee see that the Infubinol(yellow) did show a potential to mitigate metastatic spread; yet, it may pose health consequences that outpace that potential benifit. "
   ]
  },
  {
   "cell_type": "code",
   "execution_count": null,
   "metadata": {},
   "outputs": [],
   "source": [
    "# Minor Data Munging to Re-Format the Data Frames\n",
    "\n",
    "# Preview the Data Frame\n"
   ]
  },
  {
   "cell_type": "code",
   "execution_count": null,
   "metadata": {
    "scrolled": true
   },
   "outputs": [],
   "source": []
  },
  {
   "cell_type": "code",
   "execution_count": null,
   "metadata": {},
   "outputs": [],
   "source": [
    "# Generate the Plot (Accounting for percentages)\n",
    "\n",
    "# Save the Figure\n",
    "\n",
    "# Show the Figure\n",
    "plt.show()"
   ]
  },
  {
   "cell_type": "code",
   "execution_count": null,
   "metadata": {},
   "outputs": [],
   "source": []
  },
  {
   "cell_type": "markdown",
   "metadata": {},
   "source": [
    "## Summary Bar Graph"
   ]
  },
  {
   "cell_type": "code",
   "execution_count": null,
   "metadata": {},
   "outputs": [],
   "source": [
    "# Calculate the percent changes for each drug\n",
    "\n",
    "# Display the data to confirm\n"
   ]
  },
  {
   "cell_type": "code",
   "execution_count": null,
   "metadata": {},
   "outputs": [],
   "source": []
  },
  {
   "cell_type": "code",
   "execution_count": null,
   "metadata": {},
   "outputs": [],
   "source": [
    "# Store all Relevant Percent Changes into a Tuple\n",
    "\n",
    "\n",
    "# Splice the data between passing and failing drugs\n",
    "\n",
    "\n",
    "# Orient widths. Add labels, tick marks, etc. \n",
    "\n",
    "\n",
    "# Use functions to label the percentages of changes\n",
    "\n",
    "\n",
    "# Call functions to implement the function calls\n",
    "\n",
    "\n",
    "# Save the Figure\n",
    "\n",
    "\n",
    "# Show the Figure\n",
    "fig.show()"
   ]
  },
  {
   "cell_type": "code",
   "execution_count": null,
   "metadata": {},
   "outputs": [],
   "source": []
  },
  {
   "cell_type": "code",
   "execution_count": null,
   "metadata": {},
   "outputs": [],
   "source": []
  }
 ],
 "metadata": {
  "anaconda-cloud": {},
  "kernelspec": {
   "display_name": "Python 3",
   "language": "python",
   "name": "python3"
  },
  "language_info": {
   "codemirror_mode": {
    "name": "ipython",
    "version": 3
   },
   "file_extension": ".py",
   "mimetype": "text/x-python",
   "name": "python",
   "nbconvert_exporter": "python",
   "pygments_lexer": "ipython3",
   "version": "3.7.1"
  }
 },
 "nbformat": 4,
 "nbformat_minor": 1
}
